{
 "cells": [
  {
   "cell_type": "markdown",
   "metadata": {},
   "source": [
    "# Sessió 3: PyTorch & Classificació Avançada"
   ]
  },
  {
   "cell_type": "markdown",
   "metadata": {},
   "source": [
    "## **NOM**: ####\n",
    "\n",
    "## **NIU**: ####"
   ]
  },
  {
   "cell_type": "markdown",
   "metadata": {
    "pycharm": {
     "name": "#%% md\n"
    }
   },
   "source": [
    "En aquesta sessió continuarem utilitzant pytorch per definir i evaluar diferents models amb xarxes neuronals.\n",
    "\n",
    "* Durant la classe, repasarem el codi aqui mostrat i veurem què podem provar.\n",
    "* **A casa**\n",
    " * Definir models i entrenar-los (5pts)\n",
    " * Mostrar corbes de aprenentatge (2pts)\n",
    " * Mostrar models, parametres, flops teorics i temps real dels models (3pts)\n",
    "\n",
    "Treballarem sobre la base de dades [Fashion-MNIST](https://github.com/zalandoresearch/fashion-mnist). És similar a la base de dades de MNIST, un dataset clàssic en la visió per computador. Són imatges de 28x28 pixels i en escala de grisos. El original disposa de 60.000 imatges de entrenament i 10.000 de test. Està anotat en 10 categories diferents:\n",
    "\n",
    "|Id|Nom|\n",
    "|:-:|:--|\n",
    "|0|T-shirt/top\n",
    "|1|Trouser |\n",
    "|2|Pullover|\n",
    "|3|Dress|\n",
    "|4|Coat|\n",
    "|5|Sandal|\n",
    "|6|Shirt|\n",
    "|7|Sneaker|\n",
    "|8|Bag |\n",
    "|9|Ankle boot|\n",
    "\n",
    "<img src=\"https://github.com/zalandoresearch/fashion-mnist/raw/master/doc/img/fashion-mnist-sprite.png\" width=\"60%\">\n"
   ]
  },
  {
   "cell_type": "markdown",
   "metadata": {},
   "source": [
    "### Imports"
   ]
  },
  {
   "cell_type": "code",
   "execution_count": 1,
   "metadata": {
    "pycharm": {
     "name": "#%%\n"
    }
   },
   "outputs": [],
   "source": [
    "import torch\n",
    "import torch.nn as nn\n",
    "import torchvision\n",
    "import matplotlib.pyplot as plt\n",
    "import torch.nn.functional as F\n",
    "import tqdm\n",
    "import sys\n",
    "import time\n",
    "import numpy as np\n",
    "from sklearn.metrics import confusion_matrix\n",
    "import seaborn as sns"
   ]
  },
  {
   "cell_type": "markdown",
   "metadata": {},
   "source": [
    "### Parameters\n",
    "\n",
    "Aqui definim els principals parametres que poden fer variar el metode"
   ]
  },
  {
   "cell_type": "code",
   "execution_count": 2,
   "metadata": {
    "pycharm": {
     "name": "#%%\n"
    }
   },
   "outputs": [],
   "source": [
    "quick_experiment = True  # reduce the number of training and testing samples for a quick check\n",
    "epochs_in_quick = 3      # number of epochs in the fast experiment\n",
    "n_train_in_quick = 600  # number of training images in the fast experiment\n",
    "n_test_in_quick = 1000    # number of testing images in the fast experiment\n",
    "\n",
    "epochs = 5             # number of epochs to train (default: 14)\n",
    "learning_rate = 0.001   # learning rate (default: 0.001-[0.01]-0.1)"
   ]
  },
  {
   "cell_type": "markdown",
   "metadata": {},
   "source": [
    "Si fem un experiment rapid, quin % del total estem agafant:"
   ]
  },
  {
   "cell_type": "code",
   "execution_count": 3,
   "metadata": {},
   "outputs": [
    {
     "name": "stdout",
     "output_type": "stream",
     "text": [
      "TRAINING USED:  1.0%\n",
      "TESTING  USED:  10.0%\n"
     ]
    }
   ],
   "source": [
    "total_training_data = 60000 # no tocar. només serveix per visualitzar\n",
    "total_testing_data = 10000  # no tocar. només serveix per visualitzar\n",
    "\n",
    "print(\"TRAINING USED:  {:.1f}%\\nTESTING  USED:  {:.1f}%\".format(100.*n_train_in_quick/total_training_data, \n",
    "                                                                100.*n_test_in_quick/total_testing_data))"
   ]
  },
  {
   "cell_type": "markdown",
   "metadata": {
    "pycharm": {
     "name": "#%% md\n"
    }
   },
   "source": [
    "En principi els següents parametres son força estandard i no caldria tocar-los gaire si no sabeu el que volen dir."
   ]
  },
  {
   "cell_type": "code",
   "execution_count": 4,
   "metadata": {
    "pycharm": {
     "name": "#%%\n"
    }
   },
   "outputs": [
    {
     "name": "stdout",
     "output_type": "stream",
     "text": [
      "USING CUDA: False\n"
     ]
    }
   ],
   "source": [
    "batch_size = 100        # number of samples during training\n",
    "test_batch_size = 1000  # number of samples for test \n",
    "\n",
    "no_cuda = True          # disables CUDA training\n",
    "dry_run = False         # quickly check a single pass\n",
    "seed = 1                # random seed (default: 1)\n",
    "log_interval = 50       # how many batches to wait before logging training status\n",
    "save_model = False      # For Saving the current Model\n",
    "\n",
    "\n",
    "# Check if cuda is available\n",
    "use_cuda = not no_cuda and torch.cuda.is_available()\n",
    "print(f\"USING CUDA: {use_cuda}\")\n",
    "torch.manual_seed(seed)\n",
    "\n",
    "# define the device where to compute (cpu or gpu)\n",
    "device = torch.device(\"cuda\" if use_cuda else \"cpu\")\n",
    "\n",
    "train_kwargs = {'batch_size': batch_size}\n",
    "test_kwargs = {'batch_size': test_batch_size}\n",
    "if use_cuda:\n",
    "    cuda_kwargs = {'num_workers': 1,\n",
    "                   'pin_memory': True,\n",
    "                   'shuffle': True}\n",
    "    train_kwargs.update(cuda_kwargs)\n",
    "    test_kwargs.update(cuda_kwargs)\n"
   ]
  },
  {
   "cell_type": "markdown",
   "metadata": {},
   "source": [
    "### Models"
   ]
  },
  {
   "cell_type": "code",
   "execution_count": 5,
   "metadata": {
    "pycharm": {
     "name": "#%%\n"
    }
   },
   "outputs": [],
   "source": [
    "\n",
    "class Net_Linear(nn.Module):\n",
    "    def __init__(self):\n",
    "        super(Net_Linear, self).__init__()\n",
    "        self.w = nn.Linear(784, 10)\n",
    "\n",
    "    def forward(self, x):\n",
    "        x = torch.flatten(x, 1)\n",
    "        output = self.w(x)\n",
    "        return F.log_softmax(output, dim=1)\n",
    "\n",
    "\n",
    "class LeNet_tiny(nn.Module):\n",
    "    def __init__(self):\n",
    "        super(LeNet_tiny, self).__init__()\n",
    "        self.conv1 = nn.Conv2d(1, 8, 3, 1)\n",
    "        self.conv2 = nn.Conv2d(8, 16, 3, 1)\n",
    "        self.dropout1 = nn.Dropout(0.25)\n",
    "        self.dropout2 = nn.Dropout(0.5)\n",
    "        self.fc1 = nn.Linear(2304, 32)\n",
    "        self.fc2 = nn.Linear(32, 10)\n",
    "\n",
    "    def forward(self, x):\n",
    "        x = self.conv1(x)\n",
    "        x = F.relu(x)\n",
    "        x = self.conv2(x)\n",
    "        x = F.relu(x)\n",
    "        x = F.max_pool2d(x, 2)\n",
    "        x = self.dropout1(x)\n",
    "        x = torch.flatten(x, 1)\n",
    "        x = self.fc1(x)\n",
    "        x = F.relu(x)\n",
    "        x = self.dropout2(x)\n",
    "        x = self.fc2(x)\n",
    "        output = F.log_softmax(x, dim=1)\n",
    "        return output\n",
    "\n",
    "\n",
    "class LeNet(nn.Module):\n",
    "    def __init__(self):\n",
    "        super(LeNet, self).__init__()\n",
    "        self.conv1 = nn.Conv2d(1, 32, 3, 1)\n",
    "        self.conv2 = nn.Conv2d(32, 64, 3, 1)\n",
    "        self.dropout1 = nn.Dropout(0.25)\n",
    "        self.dropout2 = nn.Dropout(0.5)\n",
    "        self.fc1 = nn.Linear(9216, 128)\n",
    "        self.fc2 = nn.Linear(128, 10)\n",
    "\n",
    "    def forward(self, x):\n",
    "        x = self.conv1(x)\n",
    "        x = F.relu(x)\n",
    "        x = self.conv2(x)\n",
    "        x = F.relu(x)\n",
    "        x = F.max_pool2d(x, 2)\n",
    "        x = self.dropout1(x)\n",
    "        x = torch.flatten(x, 1)\n",
    "        x = self.fc1(x)\n",
    "        x = F.relu(x)\n",
    "        x = self.dropout2(x)\n",
    "        x = self.fc2(x)\n",
    "        output = F.log_softmax(x, dim=1)\n",
    "        return output\n",
    "\n",
    "\n",
    "class FashionCNN(nn.Module):\n",
    "\n",
    "    def __init__(self):\n",
    "        super(FashionCNN, self).__init__()\n",
    "\n",
    "        self.layer1 = nn.Sequential(\n",
    "            nn.Conv2d(in_channels=1, out_channels=32, kernel_size=3, padding=1),\n",
    "            nn.BatchNorm2d(32),\n",
    "            nn.ReLU(),\n",
    "            nn.MaxPool2d(kernel_size=2, stride=2)\n",
    "        )\n",
    "\n",
    "        self.layer2 = nn.Sequential(\n",
    "            nn.Conv2d(in_channels=32, out_channels=64, kernel_size=3),\n",
    "            nn.BatchNorm2d(64),\n",
    "            nn.ReLU(),\n",
    "            nn.MaxPool2d(2)\n",
    "        )\n",
    "\n",
    "        self.fc1 = nn.Linear(in_features=64 * 6 * 6, out_features=600)\n",
    "        self.drop = nn.Dropout2d(0.25)\n",
    "        self.fc2 = nn.Linear(in_features=600, out_features=120)\n",
    "        self.fc3 = nn.Linear(in_features=120, out_features=10)\n",
    "\n",
    "    def forward(self, x):\n",
    "        out = self.layer1(x)\n",
    "        out = self.layer2(out)\n",
    "        out = out.view(out.size(0), -1)\n",
    "        out = self.fc1(out)\n",
    "        out = self.drop(out)\n",
    "        out = self.fc2(out)\n",
    "        out = self.fc3(out)\n",
    "\n",
    "        return out"
   ]
  },
  {
   "cell_type": "markdown",
   "metadata": {},
   "source": [
    "### Models a definir"
   ]
  },
  {
   "cell_type": "code",
   "execution_count": 6,
   "metadata": {},
   "outputs": [],
   "source": [
    "#class my_model_1(nn.Module):\n",
    "#..\n",
    "\n",
    "#class my_model_2(nn.Module):\n",
    "#..\n",
    "\n",
    "#class my_model_3(nn.Module):\n",
    "#..\n"
   ]
  },
  {
   "cell_type": "markdown",
   "metadata": {
    "pycharm": {
     "name": "#%% md\n"
    }
   },
   "source": [
    "### Funcions auxiliars"
   ]
  },
  {
   "cell_type": "code",
   "execution_count": 7,
   "metadata": {
    "pycharm": {
     "name": "#%%\n"
    }
   },
   "outputs": [],
   "source": [
    "def visualize_confusion_matrix(y_pred, y_real):\n",
    "    # mostra la matriu de confusió\n",
    "    cm = confusion_matrix(y_real, y_pred)\n",
    "    plt.subplots(figsize=(10, 6))\n",
    "    sns.heatmap(cm, annot = True, fmt = 'g')\n",
    "    plt.xlabel(\"Predicted\")\n",
    "    plt.ylabel(\"Actual\")\n",
    "    plt.title(\"Confusion Matrix\")\n",
    "    plt.show()\n",
    "\n",
    "def calcular_parametres_del_model(current_model):\n",
    "    pytorch_total_params = sum(p.numel() for p in model.parameters() if p.requires_grad)\n",
    "    print(\"# trainable parameters: {:,}\".format(pytorch_total_params))\n",
    "    return pytorch_total_params\n",
    "\n",
    "def calculate_parameters_and_flops(current_model):\n",
    "    from thop import profile\n",
    "    test_input = torch.randn(1, 1, 28, 28)\n",
    "    macs, params = profile(current_model, inputs=(test_input,))  # multiply accumulate operation (GFLOPS = 2 * GMACS)\n",
    "    # normalment, en gpus i exemples reals, es parlaria minim de Gigaflops.\n",
    "    # print(\"%s | %.2f Params(M) | %.3f FLOPs(G)\" % (current_model._get_name(), params / (1000 ** 2), macs / (1000 ** 3)))\n",
    "    print(\"%s | %.2f Params(M) | %.3f FLOPs(M)\" % (current_model._get_name(), params / (1000 ** 2), macs / (1000 ** 2)))\n",
    "    return macs, params\n",
    "    \n",
    "def mostra_estructura_model_torchviz(current_model):\n",
    "    from torchviz import make_dot\n",
    "    test_input = torch.randn(1, 1, 28, 28)\n",
    "    return make_dot(current_model(test_input), params=dict(current_model.named_parameters()))\n",
    "    \n",
    "    \n",
    "def mostra_estructura_model_hiddenlayer(current_model):\n",
    "    import hiddenlayer as hl\n",
    "    test_input = torch.randn(1, 1, 28, 28)\n",
    "    hl_graph = hl.build_graph(current_model, test_input)\n",
    "    return hl_graph\n",
    "\n"
   ]
  },
  {
   "cell_type": "markdown",
   "metadata": {},
   "source": [
    "### Train loop"
   ]
  },
  {
   "cell_type": "code",
   "execution_count": 8,
   "metadata": {
    "pycharm": {
     "name": "#%%\n"
    }
   },
   "outputs": [],
   "source": [
    "def train(model, device, train_loader, optimizer, criterion):\n",
    "    losses = []\n",
    "    model.train()\n",
    "    t = tqdm.tqdm(enumerate(train_loader), total=len(train_loader))\n",
    "    t.set_description('Train')\n",
    "    for batch_idx, (data, target) in t:\n",
    "        data, target = data.to(device), target.to(device)\n",
    "        optimizer.zero_grad()\n",
    "        output = model(data)\n",
    "        loss = criterion(output, target)\n",
    "        loss.backward()\n",
    "        optimizer.step()\n",
    "        losses.append(loss.item())\n",
    "        t.set_postfix(loss=loss.item())\n",
    "\n",
    "    return losses"
   ]
  },
  {
   "cell_type": "markdown",
   "metadata": {},
   "source": [
    "### Test loop"
   ]
  },
  {
   "cell_type": "code",
   "execution_count": 9,
   "metadata": {
    "pycharm": {
     "name": "#%%\n"
    }
   },
   "outputs": [],
   "source": [
    "def test(model, device, test_loader, criterion):\n",
    "    model.eval()\n",
    "    test_loss = 0\n",
    "    correct = 0\n",
    "    totals = 0\n",
    "    all_preds = []\n",
    "    all_targets = []\n",
    "    \n",
    "    with torch.no_grad():\n",
    "        t = tqdm.tqdm(test_loader, total=len(test_loader))\n",
    "        t.set_description('Test ')\n",
    "        for data, target in t:\n",
    "            data, target = data.to(device), target.to(device)\n",
    "            output = model(data)\n",
    "            test_loss += criterion(output, target).item() * data.shape[0]  # sum up batch loss\n",
    "            pred = output.argmax(dim=1, keepdim=True)  # get the index of the max log-probability\n",
    "            correct += pred.eq(target.view_as(pred)).sum().item()\n",
    "            totals += len(target)\n",
    "            t.set_postfix(loss=test_loss/totals, accuracy=100.*correct/totals)\n",
    "            all_preds.extend(np.asarray(pred))\n",
    "            all_targets.extend(np.asarray(target))\n",
    "\n",
    "    test_loss /= len(test_loader.dataset)\n",
    "    accuracy = 100. * correct / len(test_loader.dataset)\n",
    "    \n",
    "    # visualize confusion matrix?\n",
    "    \n",
    "    print('\\nTest set: Average loss: {:.4f}, Accuracy: {}/{} ({:.2f}%)\\n'.format(\n",
    "        test_loss, correct, len(test_loader.dataset), accuracy))\n",
    "    return test_loss, accuracy"
   ]
  },
  {
   "cell_type": "markdown",
   "metadata": {},
   "source": [
    "### Preparar les dades d'entrenament"
   ]
  },
  {
   "cell_type": "code",
   "execution_count": 10,
   "metadata": {
    "pycharm": {
     "name": "#%%\n"
    }
   },
   "outputs": [
    {
     "name": "stdout",
     "output_type": "stream",
     "text": [
      "Downloading http://fashion-mnist.s3-website.eu-central-1.amazonaws.com/train-images-idx3-ubyte.gz\n",
      "Downloading http://fashion-mnist.s3-website.eu-central-1.amazonaws.com/train-images-idx3-ubyte.gz to ../data\\FashionMNIST\\raw\\train-images-idx3-ubyte.gz\n"
     ]
    },
    {
     "name": "stderr",
     "output_type": "stream",
     "text": [
      "26422272it [00:01, 14573566.70it/s]                              \n"
     ]
    },
    {
     "name": "stdout",
     "output_type": "stream",
     "text": [
      "Extracting ../data\\FashionMNIST\\raw\\train-images-idx3-ubyte.gz to ../data\\FashionMNIST\\raw\n",
      "\n",
      "Downloading http://fashion-mnist.s3-website.eu-central-1.amazonaws.com/train-labels-idx1-ubyte.gz\n",
      "Downloading http://fashion-mnist.s3-website.eu-central-1.amazonaws.com/train-labels-idx1-ubyte.gz to ../data\\FashionMNIST\\raw\\train-labels-idx1-ubyte.gz\n"
     ]
    },
    {
     "name": "stderr",
     "output_type": "stream",
     "text": [
      "29696it [00:00, 101050.43it/s]                          \n"
     ]
    },
    {
     "name": "stdout",
     "output_type": "stream",
     "text": [
      "Extracting ../data\\FashionMNIST\\raw\\train-labels-idx1-ubyte.gz to ../data\\FashionMNIST\\raw\n",
      "\n",
      "Downloading http://fashion-mnist.s3-website.eu-central-1.amazonaws.com/t10k-images-idx3-ubyte.gz\n",
      "Downloading http://fashion-mnist.s3-website.eu-central-1.amazonaws.com/t10k-images-idx3-ubyte.gz to ../data\\FashionMNIST\\raw\\t10k-images-idx3-ubyte.gz\n"
     ]
    },
    {
     "name": "stderr",
     "output_type": "stream",
     "text": [
      "4422656it [00:00, 7612193.38it/s]                              \n"
     ]
    },
    {
     "name": "stdout",
     "output_type": "stream",
     "text": [
      "Extracting ../data\\FashionMNIST\\raw\\t10k-images-idx3-ubyte.gz to ../data\\FashionMNIST\\raw\n",
      "\n",
      "Downloading http://fashion-mnist.s3-website.eu-central-1.amazonaws.com/t10k-labels-idx1-ubyte.gz\n"
     ]
    },
    {
     "name": "stderr",
     "output_type": "stream",
     "text": [
      "6144it [00:00, 3094728.45it/s]          "
     ]
    },
    {
     "name": "stdout",
     "output_type": "stream",
     "text": [
      "Downloading http://fashion-mnist.s3-website.eu-central-1.amazonaws.com/t10k-labels-idx1-ubyte.gz to ../data\\FashionMNIST\\raw\\t10k-labels-idx1-ubyte.gz\n"
     ]
    },
    {
     "name": "stderr",
     "output_type": "stream",
     "text": [
      "\n"
     ]
    },
    {
     "name": "stdout",
     "output_type": "stream",
     "text": [
      "Extracting ../data\\FashionMNIST\\raw\\t10k-labels-idx1-ubyte.gz to ../data\\FashionMNIST\\raw\n",
      "\n"
     ]
    }
   ],
   "source": [
    "transform = torchvision.transforms.Compose([\n",
    "    torchvision.transforms.ToTensor(),\n",
    "    torchvision.transforms.Normalize((0.1307,), (0.3081,))\n",
    "])\n",
    "dataset_train = torchvision.datasets.FashionMNIST('../data', train=True, download=True, transform=transform)\n",
    "dataset_val = torchvision.datasets.FashionMNIST('../data', train=False, transform=transform)\n",
    "\n",
    "if quick_experiment:\n",
    "    epochs = epochs_in_quick\n",
    "    n_not_used_for_train_in_quick = len(dataset_train) - n_train_in_quick\n",
    "    dataset_train, dataset_train_not_used = torch.utils.data.random_split(dataset_train,\n",
    "                                                                          [n_train_in_quick,\n",
    "                                                                           n_not_used_for_train_in_quick])\n",
    "\n",
    "    n_not_used_for_test_in_quick = len(dataset_val) - n_test_in_quick\n",
    "    dataset_val, dataset_val_not_used = torch.utils.data.random_split(dataset_val,\n",
    "                                                                          [n_test_in_quick,\n",
    "                                                                           n_not_used_for_test_in_quick])\n",
    "\n",
    "train_loader = torch.utils.data.DataLoader(dataset_train, **train_kwargs)\n",
    "test_loader = torch.utils.data.DataLoader(dataset_val, **test_kwargs)\n"
   ]
  },
  {
   "cell_type": "markdown",
   "metadata": {},
   "source": [
    "### Experiment Loop"
   ]
  },
  {
   "cell_type": "code",
   "execution_count": 11,
   "metadata": {
    "pycharm": {
     "name": "#%%\n"
    }
   },
   "outputs": [],
   "source": [
    "def experiment(model, device, loss, optimizer, train_loader, test_loader, name='', save_model=False):\n",
    "    init_time = time.time()\n",
    "    losses_train = []\n",
    "    losses_test = []\n",
    "    accuracies_test = []\n",
    "    print('--'*50)\n",
    "    print('STARTING EXPERIMENT {}'.format(name))\n",
    "    print('--'*50)\n",
    "    \n",
    "    model.to(device)\n",
    "    print(\"CHECKING INITIAL TEST LOSS (with random weights..)\")\n",
    "    # calculo aquest test tan sols per visualitzar més maca la gràfica de losses. No caldria utilitzar-lo\n",
    "    loss_test_epoch, accuracy_epoch = test(model, device, test_loader, loss)\n",
    "    losses_test.append(loss_test_epoch)\n",
    "    accuracies_test.append(accuracy_epoch)\n",
    "    \n",
    "    for epoch in range(1, epochs + 1):\n",
    "        print (\"EPOCH {}\".format(epoch))\n",
    "        sys.stdout.flush()\n",
    "        loss_train_epoch = train(model, device, train_loader, optimizer, loss)\n",
    "        loss_test_epoch, accuracy_epoch = test(model, device, test_loader, loss)\n",
    "\n",
    "        losses_train.extend(loss_train_epoch)\n",
    "        losses_test.append(loss_test_epoch)\n",
    "        accuracies_test.append(accuracy_epoch)\n",
    "\n",
    "    plt.plot(range(len(losses_train)), \n",
    "             losses_train, label=\"Training Loss\")\n",
    "\n",
    "    plt.plot(range(0, len(losses_train)+1, int(len(losses_train)/(len(losses_test)-1))), \n",
    "             losses_test, label=\"Test Loss\")\n",
    "    plt.legend()\n",
    "    plt.show()\n",
    "    \n",
    "    elapsed = time.time()-init_time\n",
    "\n",
    "    if save_model:\n",
    "        torch.save(model.state_dict(), \"fashion_mnist_cnn.pt\")\n",
    "\n",
    "    print (\"ELAPSED TIME: {:.1f}s\".format(elapsed))\n",
    "\n",
    "    return losses_train, losses_test, accuracies_test, elapsed"
   ]
  },
  {
   "cell_type": "markdown",
   "metadata": {},
   "source": [
    "### Instanciació d'un model"
   ]
  },
  {
   "cell_type": "code",
   "execution_count": 12,
   "metadata": {
    "pycharm": {
     "name": "#%%\n"
    }
   },
   "outputs": [],
   "source": [
    "model = LeNet()\n",
    "loss = nn.CrossEntropyLoss()\n",
    "optimizer = torch.optim.Adam(model.parameters(), lr=learning_rate)"
   ]
  },
  {
   "cell_type": "markdown",
   "metadata": {},
   "source": [
    "### Fer un entrenament"
   ]
  },
  {
   "cell_type": "code",
   "execution_count": 13,
   "metadata": {},
   "outputs": [
    {
     "name": "stderr",
     "output_type": "stream",
     "text": [
      "Test :   0%|          | 0/1 [00:00<?, ?it/s]"
     ]
    },
    {
     "name": "stdout",
     "output_type": "stream",
     "text": [
      "----------------------------------------------------------------------------------------------------\n",
      "STARTING EXPERIMENT EXP #1\n",
      "----------------------------------------------------------------------------------------------------\n",
      "CHECKING INITIAL TEST LOSS (with random weights..)\n"
     ]
    },
    {
     "name": "stderr",
     "output_type": "stream",
     "text": [
      "Test : 100%|██████████| 1/1 [00:07<00:00,  7.16s/it, accuracy=12.3, loss=2.31]"
     ]
    },
    {
     "name": "stdout",
     "output_type": "stream",
     "text": [
      "\n",
      "Test set: Average loss: 2.3115, Accuracy: 123/1000 (12.30%)\n",
      "\n",
      "EPOCH 1\n"
     ]
    },
    {
     "name": "stderr",
     "output_type": "stream",
     "text": [
      "\n",
      "Train: 100%|██████████| 6/6 [00:04<00:00,  1.46it/s, loss=1.47]\n",
      "Test : 100%|██████████| 1/1 [00:00<00:00,  1.03it/s, accuracy=64.7, loss=1.24]"
     ]
    },
    {
     "name": "stdout",
     "output_type": "stream",
     "text": [
      "\n",
      "Test set: Average loss: 1.2423, Accuracy: 647/1000 (64.70%)\n",
      "\n",
      "EPOCH 2\n"
     ]
    },
    {
     "name": "stderr",
     "output_type": "stream",
     "text": [
      "\n",
      "Train: 100%|██████████| 6/6 [00:01<00:00,  4.47it/s, loss=1]   \n",
      "Test : 100%|██████████| 1/1 [00:00<00:00,  1.29it/s, accuracy=71.1, loss=0.89]"
     ]
    },
    {
     "name": "stdout",
     "output_type": "stream",
     "text": [
      "\n",
      "Test set: Average loss: 0.8905, Accuracy: 711/1000 (71.10%)\n",
      "\n",
      "EPOCH 3\n"
     ]
    },
    {
     "name": "stderr",
     "output_type": "stream",
     "text": [
      "\n",
      "Train: 100%|██████████| 6/6 [00:01<00:00,  4.93it/s, loss=0.9]  \n",
      "Test : 100%|██████████| 1/1 [00:00<00:00,  1.24it/s, accuracy=74.4, loss=0.742]\n"
     ]
    },
    {
     "name": "stdout",
     "output_type": "stream",
     "text": [
      "\n",
      "Test set: Average loss: 0.7423, Accuracy: 744/1000 (74.40%)\n",
      "\n"
     ]
    },
    {
     "data": {
      "image/png": "[encoded data removed]",
      "text/plain": [
       "<Figure size 432x288 with 1 Axes>"
      ]
     },
     "metadata": {
      "needs_background": "light"
     },
     "output_type": "display_data"
    },
    {
     "name": "stdout",
     "output_type": "stream",
     "text": [
      "ELAPSED TIME: 29.9s\n"
     ]
    }
   ],
   "source": [
    "loss_train, loss_test, acc_test, elapsed = experiment(model, \n",
    "                                                      device, \n",
    "                                                      loss, \n",
    "                                                      optimizer, \n",
    "                                                      train_loader, \n",
    "                                                      test_loader, \n",
    "                                                      name='EXP #1', \n",
    "                                                      save_model=False)"
   ]
  },
  {
   "cell_type": "markdown",
   "metadata": {},
   "source": [
    "# Entrega\n",
    "\n",
    "* A. Fes varis entrenaments amb diferents models.**(5pts)**\n",
    " * Utilitza els 4 models aqui definits.\n",
    " * **Defineix 3 nous models diferents, explica'ls i entrena'ls.** Pots crear-ne de simples, de més complexes, treure poolings o afegir-ne, modificar el percentatge de regularització del dropout, cambiar la funció d’activació, buscar altres definicions per Internet, altres tipus de capes, amb més o menys neurones per capa, capes residuals, provar d’agafar-ne alguna de pre-entrenada… Podeu provar altres configuracions d’entrenament, més o menys èpoques, diferent learning rate, diferent optimitzador, afegir weight_decay….\n",
    "\n",
    "\n",
    "* B. **Mostra les corbes d'aprenentatge** de cadascún d'ells i compara-les amb les aquí definides. (7 en total) **(2pts)**\n",
    " * Per cada model, mostra la loss d'entrenament i la de test en una mateixa gráfica.\n",
    " * Mostra les matrius de confusió del model de la última època sobre el conjunt de test.\n",
    " \n",
    "* C. **Mostra els models**, parametres, flops teorics i temps real dels models **(3pts)**\n",
    " * Us he deixat varies funcions que us mostren els models. Haureu d'instalar les llibreries corresponents: \n",
    "   * [thop](https://github.com/Lyken17/pytorch-OpCounter/) per mostrar parametres, flops..\n",
    "   * [hiddenlayer](https://github.com/waleedka/hiddenlayer) i [torchviz](https://github.com/szagoruyko/pytorchviz). Per mostrar els graphs. Aquestes també requereixen tenir instalat ``graphviz``"
   ]
  },
  {
   "cell_type": "code",
   "execution_count": null,
   "metadata": {},
   "outputs": [],
   "source": []
  }
 ],
 "metadata": {
  "kernelspec": {
   "display_name": "Python 3",
   "language": "python",
   "name": "python3"
  },
  "language_info": {
   "codemirror_mode": {
    "name": "ipython",
    "version": 3
   },
   "file_extension": ".py",
   "mimetype": "text/x-python",
   "name": "python",
   "nbconvert_exporter": "python",
   "pygments_lexer": "ipython3",
   "version": "3.8.5"
  }
 },
 "nbformat": 4,
 "nbformat_minor": 1
}
